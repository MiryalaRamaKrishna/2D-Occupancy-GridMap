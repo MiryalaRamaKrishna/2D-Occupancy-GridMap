{
  "nbformat": 4,
  "nbformat_minor": 0,
  "metadata": {
    "colab": {
      "provenance": []
    },
    "kernelspec": {
      "name": "python3",
      "display_name": "Python 3"
    },
    "language_info": {
      "name": "python"
    }
  },
  "cells": [
    {
      "cell_type": "code",
      "execution_count": null,
      "metadata": {
        "id": "u35IXHHKrp8o"
      },
      "outputs": [],
      "source": [
        "import cv2\n",
        "import numpy as np\n",
        "import matplotlib.pyplot as plt\n",
        "\n",
        "def convert_image_to_occupancy_grid(image_path, grid_size):\n",
        "    \"\"\"\n",
        "    Convert an image of a room layout into a 2D occupancy grid map.\n",
        "\n",
        "    :param image_path: Path to the input image.\n",
        "    :param grid_size: The size of the grid (width, height).\n",
        "    :return: The occupancy grid map (numpy array).\n",
        "    \"\"\"\n",
        "    # Load the image\n",
        "    image = cv2.imread(image_path, cv2.IMREAD_GRAYSCALE)\n",
        "\n",
        "    # Resize the image to the grid size\n",
        "    resized_image = cv2.resize(image, grid_size)\n",
        "\n",
        "    # Perform Canny edge detection\n",
        "    edges = cv2.Canny(resized_image, 100, 200)\n",
        "\n",
        "    # Convert the edges to binary\n",
        "    binary_image = np.where(edges > 0, 255, 0)\n",
        "\n",
        "    binary_image = cv2.bitwise_not(binary_image)\n",
        "    # Return the occupancy grid map\n",
        "    return binary_image\n",
        "def main():\n",
        "    image_path = r\"C:\\Users\\moizp\\Downloads\\stitched_image.jpg\"  # Replace with your image path\n",
        "    grid_size = (100, 100)  # width, height of the occupancy grid\n",
        "\n",
        "    # Convert the image to an occupancy grid\n",
        "    occupancy_grid = convert_image_to_occupancy_grid(image_path, grid_size)\n",
        "\n",
        "    # Display the occupancy grid\n",
        "    plt.imshow(occupancy_grid, cmap='gray', origin='lower')\n",
        "    plt.title(\"Occupancy Grid Map\")\n",
        "    plt.xlabel(\"X (grid cells)\")\n",
        "    plt.ylabel(\"Y (grid cells)\")\n",
        "    plt.show()\n",
        "\n",
        "if _name_ == \"_main_\":\n",
        "    main()"
      ]
    }
  ]
}