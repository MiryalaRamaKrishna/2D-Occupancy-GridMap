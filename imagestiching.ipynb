{
  "cells": [
    {
      "cell_type": "code",
      "execution_count": null,
      "metadata": {
        "colab": {
          "background_save": true,
          "base_uri": "https://localhost:8080/",
          "height": 370
        },
        "id": "iFmsKFs5P6-F",
        "outputId": "7b486360-0be1-4d1b-a534-bfd2605f0128"
      },
      "outputs": [
        {
          "ename": "error",
          "evalue": "OpenCV(4.8.0) /io/opencv/modules/imgproc/src/color.cpp:182: error: (-215:Assertion failed) !_src.empty() in function 'cvtColor'\n",
          "output_type": "error",
          "traceback": [
            "\u001b[0;31m---------------------------------------------------------------------------\u001b[0m",
            "\u001b[0;31merror\u001b[0m                                     Traceback (most recent call last)",
            "\u001b[0;32m<ipython-input-1-d7c678c1e075>\u001b[0m in \u001b[0;36m<cell line: 55>\u001b[0;34m()\u001b[0m\n\u001b[1;32m     53\u001b[0m \u001b[0;34m\u001b[0m\u001b[0m\n\u001b[1;32m     54\u001b[0m \u001b[0;31m# Stitch the images\u001b[0m\u001b[0;34m\u001b[0m\u001b[0;34m\u001b[0m\u001b[0m\n\u001b[0;32m---> 55\u001b[0;31m \u001b[0mstitched_image\u001b[0m \u001b[0;34m=\u001b[0m \u001b[0mstitch_images\u001b[0m\u001b[0;34m(\u001b[0m\u001b[0mimages\u001b[0m\u001b[0;34m)\u001b[0m\u001b[0;34m\u001b[0m\u001b[0;34m\u001b[0m\u001b[0m\n\u001b[0m\u001b[1;32m     56\u001b[0m \u001b[0;34m\u001b[0m\u001b[0m\n\u001b[1;32m     57\u001b[0m \u001b[0;31m# Save the result\u001b[0m\u001b[0;34m\u001b[0m\u001b[0;34m\u001b[0m\u001b[0m\n",
            "\u001b[0;32m<ipython-input-1-d7c678c1e075>\u001b[0m in \u001b[0;36mstitch_images\u001b[0;34m(img_list)\u001b[0m\n\u001b[1;32m     13\u001b[0m     \u001b[0;31m# Detect keypoints and compute descriptors for each image\u001b[0m\u001b[0;34m\u001b[0m\u001b[0;34m\u001b[0m\u001b[0m\n\u001b[1;32m     14\u001b[0m     \u001b[0;32mfor\u001b[0m \u001b[0mimg\u001b[0m \u001b[0;32min\u001b[0m \u001b[0mimg_list\u001b[0m\u001b[0;34m:\u001b[0m\u001b[0;34m\u001b[0m\u001b[0;34m\u001b[0m\u001b[0m\n\u001b[0;32m---> 15\u001b[0;31m         \u001b[0mgray\u001b[0m \u001b[0;34m=\u001b[0m \u001b[0mcv2\u001b[0m\u001b[0;34m.\u001b[0m\u001b[0mcvtColor\u001b[0m\u001b[0;34m(\u001b[0m\u001b[0mimg\u001b[0m\u001b[0;34m,\u001b[0m \u001b[0mcv2\u001b[0m\u001b[0;34m.\u001b[0m\u001b[0mCOLOR_BGR2GRAY\u001b[0m\u001b[0;34m)\u001b[0m\u001b[0;34m\u001b[0m\u001b[0;34m\u001b[0m\u001b[0m\n\u001b[0m\u001b[1;32m     16\u001b[0m         \u001b[0mkeypoints\u001b[0m\u001b[0;34m,\u001b[0m \u001b[0mdescriptors\u001b[0m \u001b[0;34m=\u001b[0m \u001b[0morb\u001b[0m\u001b[0;34m.\u001b[0m\u001b[0mdetectAndCompute\u001b[0m\u001b[0;34m(\u001b[0m\u001b[0mgray\u001b[0m\u001b[0;34m,\u001b[0m \u001b[0;32mNone\u001b[0m\u001b[0;34m)\u001b[0m\u001b[0;34m\u001b[0m\u001b[0;34m\u001b[0m\u001b[0m\n\u001b[1;32m     17\u001b[0m         \u001b[0mkeypoints_list\u001b[0m\u001b[0;34m.\u001b[0m\u001b[0mappend\u001b[0m\u001b[0;34m(\u001b[0m\u001b[0mkeypoints\u001b[0m\u001b[0;34m)\u001b[0m\u001b[0;34m\u001b[0m\u001b[0;34m\u001b[0m\u001b[0m\n",
            "\u001b[0;31merror\u001b[0m: OpenCV(4.8.0) /io/opencv/modules/imgproc/src/color.cpp:182: error: (-215:Assertion failed) !_src.empty() in function 'cvtColor'\n"
          ]
        }
      ],
      "source": [
        "import cv2\n",
        "import numpy as np\n",
        "from google.colab.patches import cv2_imshow\n",
        "\n",
        "def stitch_images(img_list):\n",
        "    # Create an ORB detector\n",
        "    orb = cv2.ORB_create()\n",
        "\n",
        "    # Create a list to hold keypoints and descriptors for each image\n",
        "    keypoints_list = []\n",
        "    descriptors_list = []\n",
        "\n",
        "    # Detect keypoints and compute descriptors for each image\n",
        "    for img in img_list:\n",
        "        gray = cv2.cvtColor(img, cv2.COLOR_BGR2GRAY)\n",
        "        keypoints, descriptors = orb.detectAndCompute(gray, None)\n",
        "        keypoints_list.append(keypoints)\n",
        "        descriptors_list.append(descriptors)\n",
        "\n",
        "    # Create a BFMatcher object\n",
        "    bf = cv2.BFMatcher(cv2.NORM_HAMMING, crossCheck=True)\n",
        "\n",
        "    # Find the homography matrices and warp the images\n",
        "    base_img = img_list[0]\n",
        "    for i in range(1, len(img_list)):\n",
        "        matches = bf.match(descriptors_list[i-1], descriptors_list[i])\n",
        "        matches = sorted(matches, key=lambda x: x.distance)\n",
        "\n",
        "        # Extract the matched keypoints\n",
        "        src_pts = np.float32([keypoints_list[i-1][m.queryIdx].pt for m in matches]).reshape(-1, 1, 2)\n",
        "        dst_pts = np.float32([keypoints_list[i][m.trainIdx].pt for m in matches]).reshape(-1, 1, 2)\n",
        "\n",
        "        # Find the homography matrix\n",
        "        H, mask = cv2.findHomography(dst_pts, src_pts, cv2.RANSAC, 5.0)\n",
        "\n",
        "        # Warp the current image\n",
        "        h, w, _ = img_list[0].shape\n",
        "        img_warped = cv2.warpPerspective(img_list[i], H, (w, h))\n",
        "\n",
        "        # Blend the images using maximum value to avoid overlaps\n",
        "        base_img = np.maximum(base_img, img_warped)\n",
        "\n",
        "    return base_img\n",
        "\n",
        "# Load the images\n",
        "img1 = cv2.imread('/content/cam1.jpeg')\n",
        "img2 = cv2.imread('/content/cam2.jpeg')\n",
        "img3 = cv2.imread('/content/cam3.jpeg')\n",
        "img4 = cv2.imread('/content/cam4.jpeg')\n",
        "\n",
        "# List of images\n",
        "images = [img1, img2, img3, img4]\n",
        "\n",
        "# Stitch the images\n",
        "stitched_image = stitch_images(images)\n",
        "\n",
        "# Save the result\n",
        "cv2.imwrite('/mnt/data/stitched_image.jpg', stitched_image)\n",
        "\n",
        "# Display the result\n",
        "cv2_imshow(stitched_image)\n"
      ]
    },
    {
      "cell_type": "code",
      "execution_count": null,
      "metadata": {
        "id": "5sY6clnMTqJh"
      },
      "outputs": [],
      "source": []
    }
  ],
  "metadata": {
    "colab": {
      "provenance": []
    },
    "kernelspec": {
      "display_name": "Python 3",
      "name": "python3"
    },
    "language_info": {
      "name": "python"
    }
  },
  "nbformat": 4,
  "nbformat_minor": 0
}